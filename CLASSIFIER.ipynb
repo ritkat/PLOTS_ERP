{
 "cells": [
  {
   "cell_type": "code",
   "execution_count": 100,
   "metadata": {},
   "outputs": [],
   "source": [
    "import numpy as np\n",
    "from scipy import signal"
   ]
  },
  {
   "cell_type": "code",
   "execution_count": 101,
   "metadata": {},
   "outputs": [],
   "source": [
    "data=np.load('bci_3.npz')"
   ]
  },
  {
   "cell_type": "code",
   "execution_count": 102,
   "metadata": {},
   "outputs": [],
   "source": [
    "data_2=data[\"X\"]"
   ]
  },
  {
   "cell_type": "code",
   "execution_count": 84,
   "metadata": {},
   "outputs": [],
   "source": [
    "# Apply notch filter\n",
    "samp_freq = 1000  # Sample frequency (Hz)\n",
    "notch_freq = 50.0  # Frequency to be removed from signal (Hz)\n",
    "quality_factor = 20.0  # Quality factor\n",
    "  \n",
    "# Design a notch filter using signal.iirnotch\n",
    "b_notch, a_notch = signal.iirnotch(notch_freq, quality_factor, samp_freq)\n",
    "  \n",
    "# Compute magnitude response of the designed filter\n",
    "freq, h = signal.freqz(b_notch, a_notch, fs=samp_freq)\n",
    "  \n",
    "#fig = plt.figure(figsize=(8, 6))\n",
    "\n",
    "\n",
    "for i in range(data_2.shape[0]):\n",
    "    for j in range(data_2.shape[1]):\n",
    "        data_2[i, j, :] = signal.filtfilt(b_notch, a_notch, data_2[i,j,:])\n",
    "\n"
   ]
  },
  {
   "cell_type": "code",
   "execution_count": 103,
   "metadata": {},
   "outputs": [
    {
     "data": {
      "text/plain": [
       "(278, 8, 3000)"
      ]
     },
     "execution_count": 103,
     "metadata": {},
     "output_type": "execute_result"
    }
   ],
   "source": [
    "#Selecting 8 electrodes as done in the text provided in 2nd best algorithm\n",
    "data_2_new=data_2[:,(29,30,31,32,37,38,39,40),:]\n",
    "data_2_new.shape"
   ]
  },
  {
   "cell_type": "code",
   "execution_count": 128,
   "metadata": {},
   "outputs": [
    {
     "name": "stderr",
     "output_type": "stream",
     "text": [
      "C:\\Users\\Ritwik\\anaconda3\\lib\\site-packages\\sklearn\\decomposition\\_fastica.py:118: ConvergenceWarning: FastICA did not converge. Consider increasing tolerance or the maximum number of iterations.\n",
      "  warnings.warn('FastICA did not converge. Consider increasing '\n"
     ]
    }
   ],
   "source": [
    "from sklearn.decomposition import FastICA\n",
    "ica = FastICA(n_components=8, max_iter=200)\n",
    "\n",
    "#data_ica=[]\n",
    "#for i in range(278):\n",
    "data_ica=ica.fit_transform(data_2_new[0,:,:].T)\n"
   ]
  },
  {
   "cell_type": "code",
   "execution_count": 104,
   "metadata": {},
   "outputs": [
    {
     "data": {
      "text/plain": [
       "(278, 8, 750)"
      ]
     },
     "execution_count": 104,
     "metadata": {},
     "output_type": "execute_result"
    }
   ],
   "source": [
    "#subsampling by 4 \n",
    "data_2_sub=data_2_new\n",
    "data_2_subs=np.zeros((278, 8, 750))\n",
    "for i in range(278):\n",
    "    for j in range(8):\n",
    "        data_2_subs[i, j, :]=signal.resample(data_2_sub[i, j, :], 750)\n",
    "\n",
    "data_2_subs.shape"
   ]
  },
  {
   "cell_type": "code",
   "execution_count": 105,
   "metadata": {},
   "outputs": [],
   "source": [
    "#bandpass filter\n",
    "b, a = signal.butter(2, 0.4, 'low', analog=False)\n",
    "data_2_subs = signal.filtfilt(b, a, data_2_subs, axis=2)"
   ]
  },
  {
   "cell_type": "code",
   "execution_count": 106,
   "metadata": {},
   "outputs": [
    {
     "name": "stderr",
     "output_type": "stream",
     "text": [
      "C:\\Users\\Ritwik\\anaconda3\\lib\\site-packages\\scipy\\signal\\spectral.py:1961: UserWarning: nperseg = 256 is greater than input length  = 250, using nperseg = 250\n",
      "  warnings.warn('nperseg = {0:d} is greater than input length '\n"
     ]
    },
    {
     "name": "stdout",
     "output_type": "stream",
     "text": [
      "0\n",
      "1\n",
      "2\n",
      "3\n",
      "4\n",
      "5\n",
      "6\n",
      "7\n",
      "8\n",
      "9\n",
      "10\n",
      "11\n",
      "12\n",
      "13\n",
      "14\n",
      "15\n",
      "16\n",
      "17\n",
      "18\n",
      "19\n",
      "20\n",
      "21\n",
      "22\n",
      "23\n",
      "24\n",
      "25\n",
      "26\n",
      "27\n",
      "28\n",
      "29\n",
      "30\n",
      "31\n",
      "32\n",
      "33\n",
      "34\n",
      "35\n",
      "36\n",
      "37\n",
      "38\n",
      "39\n",
      "40\n",
      "41\n",
      "42\n",
      "43\n",
      "44\n",
      "45\n",
      "46\n",
      "47\n",
      "48\n",
      "49\n",
      "50\n",
      "51\n",
      "52\n",
      "53\n",
      "54\n",
      "55\n",
      "56\n",
      "57\n",
      "58\n",
      "59\n",
      "60\n",
      "61\n",
      "62\n",
      "63\n",
      "64\n",
      "65\n",
      "66\n",
      "67\n",
      "68\n",
      "69\n",
      "70\n",
      "71\n",
      "72\n",
      "73\n",
      "74\n",
      "75\n",
      "76\n",
      "77\n",
      "78\n",
      "79\n",
      "80\n",
      "81\n",
      "82\n",
      "83\n",
      "84\n",
      "85\n",
      "86\n",
      "87\n",
      "88\n",
      "89\n",
      "90\n",
      "91\n",
      "92\n",
      "93\n",
      "94\n",
      "95\n",
      "96\n",
      "97\n",
      "98\n",
      "99\n",
      "100\n",
      "101\n",
      "102\n",
      "103\n",
      "104\n",
      "105\n",
      "106\n",
      "107\n",
      "108\n",
      "109\n",
      "110\n",
      "111\n",
      "112\n",
      "113\n",
      "114\n",
      "115\n",
      "116\n",
      "117\n",
      "118\n",
      "119\n",
      "120\n",
      "121\n",
      "122\n",
      "123\n",
      "124\n",
      "125\n",
      "126\n",
      "127\n",
      "128\n",
      "129\n",
      "130\n",
      "131\n",
      "132\n",
      "133\n",
      "134\n",
      "135\n",
      "136\n",
      "137\n",
      "138\n",
      "139\n",
      "140\n",
      "141\n",
      "142\n",
      "143\n",
      "144\n",
      "145\n",
      "146\n",
      "147\n",
      "148\n",
      "149\n",
      "150\n",
      "151\n",
      "152\n",
      "153\n",
      "154\n",
      "155\n",
      "156\n",
      "157\n",
      "158\n",
      "159\n",
      "160\n",
      "161\n",
      "162\n",
      "163\n",
      "164\n",
      "165\n",
      "166\n",
      "167\n",
      "168\n",
      "169\n",
      "170\n",
      "171\n",
      "172\n",
      "173\n",
      "174\n",
      "175\n",
      "176\n",
      "177\n",
      "178\n",
      "179\n",
      "180\n",
      "181\n",
      "182\n",
      "183\n",
      "184\n",
      "185\n",
      "186\n",
      "187\n",
      "188\n",
      "189\n",
      "190\n",
      "191\n",
      "192\n",
      "193\n",
      "194\n",
      "195\n",
      "196\n",
      "197\n",
      "198\n",
      "199\n",
      "200\n",
      "201\n",
      "202\n",
      "203\n",
      "204\n",
      "205\n",
      "206\n",
      "207\n",
      "208\n",
      "209\n",
      "210\n",
      "211\n",
      "212\n",
      "213\n",
      "214\n",
      "215\n",
      "216\n",
      "217\n",
      "218\n",
      "219\n",
      "220\n",
      "221\n",
      "222\n",
      "223\n",
      "224\n",
      "225\n",
      "226\n",
      "227\n",
      "228\n",
      "229\n",
      "230\n",
      "231\n",
      "232\n",
      "233\n",
      "234\n",
      "235\n",
      "236\n",
      "237\n",
      "238\n",
      "239\n",
      "240\n",
      "241\n",
      "242\n",
      "243\n",
      "244\n",
      "245\n",
      "246\n",
      "247\n",
      "248\n",
      "249\n",
      "250\n",
      "251\n",
      "252\n",
      "253\n",
      "254\n",
      "255\n",
      "256\n",
      "257\n",
      "258\n",
      "259\n",
      "260\n",
      "261\n",
      "262\n",
      "263\n",
      "264\n",
      "265\n",
      "266\n",
      "267\n",
      "268\n",
      "269\n",
      "270\n",
      "271\n",
      "272\n",
      "273\n",
      "274\n",
      "275\n",
      "276\n",
      "277\n",
      "(6072, 278)\n"
     ]
    }
   ],
   "source": [
    "#Extracting all the features and concatenating them \n",
    "final = np.array([])\n",
    "for j in range(278):\n",
    "    data_trial=data_2_subs[j,:,:].T\n",
    "    #data_trial.shape\n",
    "\n",
    "    data_trial_s1=data_trial[0:250,:]\n",
    "    #print(data_trial_s1.shape)\n",
    "    data_trial_s2=data_trial[250:500,:]\n",
    "    #print(data_trial_s2.shape)\n",
    "    data_trial_s3=data_trial[500:750,:]\n",
    "    #print(data_trial_s3.shape)\n",
    "\n",
    "    #AR Coefficients\n",
    "    import statsmodels.api as sm\n",
    "    #from statsmodels.datasets.sunspots import load\n",
    "    #data = load()\n",
    "    ARFV=np.array([])\n",
    "\n",
    "    for i in range(8):\n",
    "        rho1, sigma1 = sm.regression.linear_model.burg(data_trial_s1[:,i], order=2)\n",
    "        rho2, sigma2 = sm.regression.linear_model.burg(data_trial_s2[:,i], order=2)\n",
    "        rho3, sigma3 = sm.regression.linear_model.burg(data_trial_s3[:,i], order=2)\n",
    "        ARFV=np.append(ARFV, (rho1, rho2, rho3))\n",
    "\n",
    "    #print(ARFV) \n",
    "\n",
    "    #Haar wavelet\n",
    "    import pywt\n",
    "    HWDFV=np.array([])\n",
    "    for i in range(8):\n",
    "        (cA, cD) = pywt.dwt(data_trial[:,i], 'haar')\n",
    "        HWDFV=np.append(HWDFV, cA)\n",
    "\n",
    "    #Spectral Power estimates\n",
    "    SPFV=np.array([])\n",
    "    for i in range(8):\n",
    "        f1, Pxx_den1 = signal.welch(data_trial_s1[:,i], 250)\n",
    "        f2, Pxx_den2 = signal.welch(data_trial_s2[:,i], 250)\n",
    "        f3, Pxx_den3 = signal.welch(data_trial_s3[:,i], 250)\n",
    "        SPFV=np.append(SPFV, (Pxx_den1, Pxx_den2, Pxx_den3))\n",
    "\n",
    "    #Concatenaton of All the feature vectors\n",
    "    concated=np.concatenate((ARFV, HWDFV, SPFV), axis=None)\n",
    "    concated=np.reshape(concated, (-1, 1))\n",
    "    if j==0:\n",
    "        final=concated\n",
    "    else:\n",
    "        final= np.hstack((final, concated))\n",
    "    print(j)\n",
    "print(final.shape)"
   ]
  },
  {
   "cell_type": "code",
   "execution_count": 107,
   "metadata": {},
   "outputs": [
    {
     "data": {
      "text/plain": [
       "(278, 6072)"
      ]
     },
     "execution_count": 107,
     "metadata": {},
     "output_type": "execute_result"
    }
   ],
   "source": [
    "final=final.T\n",
    "final.shape"
   ]
  },
  {
   "cell_type": "code",
   "execution_count": 108,
   "metadata": {},
   "outputs": [
    {
     "name": "stdout",
     "output_type": "stream",
     "text": [
      "(278, 1)\n",
      "(278,)\n"
     ]
    }
   ],
   "source": [
    "#Labels of the training data\n",
    "labels=data['events']\n",
    "print(labels.shape)\n",
    "labels=np.reshape(labels, (-1,))\n",
    "print(labels.shape)"
   ]
  },
  {
   "cell_type": "code",
   "execution_count": 109,
   "metadata": {},
   "outputs": [
    {
     "data": {
      "text/plain": [
       "SVC(kernel='linear')"
      ]
     },
     "execution_count": 109,
     "metadata": {},
     "output_type": "execute_result"
    }
   ],
   "source": [
    "#Create an svm Classifier\n",
    "from sklearn import svm\n",
    "\n",
    "clf1 = svm.SVC(kernel='linear') # Linear Kernel\n",
    "\n",
    "#Train the model using the training sets\n",
    "clf1.fit(final, labels)"
   ]
  },
  {
   "cell_type": "code",
   "execution_count": 110,
   "metadata": {},
   "outputs": [
    {
     "data": {
      "text/plain": [
       "(100, 8, 3000)"
      ]
     },
     "execution_count": 110,
     "metadata": {},
     "output_type": "execute_result"
    }
   ],
   "source": [
    "#Doing the same things for the test set\n",
    "\n",
    "data_2_new_t=data['X_test'][:,(29,30,31,32,37,38,39,40),:]\n",
    "data_2_new_t.shape"
   ]
  },
  {
   "cell_type": "code",
   "execution_count": 111,
   "metadata": {},
   "outputs": [
    {
     "data": {
      "text/plain": [
       "(100, 8, 750)"
      ]
     },
     "execution_count": 111,
     "metadata": {},
     "output_type": "execute_result"
    }
   ],
   "source": [
    "#subsampling by 4 \n",
    "data_2_sub_t=data_2_new_t\n",
    "data_2_subs_t=np.zeros((100, 8, 750))\n",
    "for i in range(100):\n",
    "    for j in range(8):\n",
    "        data_2_subs_t[i, j, :]=signal.resample(data_2_sub_t[i, j, :], 750)\n",
    "\n",
    "data_2_subs_t.shape"
   ]
  },
  {
   "cell_type": "code",
   "execution_count": 112,
   "metadata": {},
   "outputs": [],
   "source": [
    "#bandpass filter\n",
    "b, a = signal.butter(2, 0.4, 'low', analog=False)\n",
    "data_2_subs_t = signal.filtfilt(b, a, data_2_subs_t, axis=2)"
   ]
  },
  {
   "cell_type": "code",
   "execution_count": 113,
   "metadata": {},
   "outputs": [
    {
     "name": "stderr",
     "output_type": "stream",
     "text": [
      "C:\\Users\\Ritwik\\anaconda3\\lib\\site-packages\\scipy\\signal\\spectral.py:1961: UserWarning: nperseg = 256 is greater than input length  = 250, using nperseg = 250\n",
      "  warnings.warn('nperseg = {0:d} is greater than input length '\n"
     ]
    },
    {
     "name": "stdout",
     "output_type": "stream",
     "text": [
      "0\n",
      "1\n",
      "2\n",
      "3\n",
      "4\n",
      "5\n",
      "6\n",
      "7\n",
      "8\n",
      "9\n",
      "10\n",
      "11\n",
      "12\n",
      "13\n",
      "14\n",
      "15\n",
      "16\n",
      "17\n",
      "18\n",
      "19\n",
      "20\n",
      "21\n",
      "22\n",
      "23\n",
      "24\n",
      "25\n",
      "26\n",
      "27\n",
      "28\n",
      "29\n",
      "30\n",
      "31\n",
      "32\n",
      "33\n",
      "34\n",
      "35\n",
      "36\n",
      "37\n",
      "38\n",
      "39\n",
      "40\n",
      "41\n",
      "42\n",
      "43\n",
      "44\n",
      "45\n",
      "46\n",
      "47\n",
      "48\n",
      "49\n",
      "50\n",
      "51\n",
      "52\n",
      "53\n",
      "54\n",
      "55\n",
      "56\n",
      "57\n",
      "58\n",
      "59\n",
      "60\n",
      "61\n",
      "62\n",
      "63\n",
      "64\n",
      "65\n",
      "66\n",
      "67\n",
      "68\n",
      "69\n",
      "70\n",
      "71\n",
      "72\n",
      "73\n",
      "74\n",
      "75\n",
      "76\n",
      "77\n",
      "78\n",
      "79\n",
      "80\n",
      "81\n",
      "82\n",
      "83\n",
      "84\n",
      "85\n",
      "86\n",
      "87\n",
      "88\n",
      "89\n",
      "90\n",
      "91\n",
      "92\n",
      "93\n",
      "94\n",
      "95\n",
      "96\n",
      "97\n",
      "98\n",
      "99\n",
      "(6072, 100)\n"
     ]
    }
   ],
   "source": [
    "final_t = np.array([])\n",
    "for j in range(100):\n",
    "    data_trial=data_2_subs_t[j,:,:].T\n",
    "    #data_trial.shape\n",
    "\n",
    "    data_trial_s1=data_trial[0:250,:]\n",
    "    #print(data_trial_s1.shape)\n",
    "    data_trial_s2=data_trial[250:500,:]\n",
    "    #print(data_trial_s2.shape)\n",
    "    data_trial_s3=data_trial[500:750,:]\n",
    "    #print(data_trial_s3.shape)\n",
    "\n",
    "    #AR Coefficients\n",
    "    import statsmodels.api as sm\n",
    "    #from statsmodels.datasets.sunspots import load\n",
    "    #data = load()\n",
    "    ARFV=np.array([])\n",
    "\n",
    "    for i in range(8):\n",
    "        rho1, sigma1 = sm.regression.linear_model.burg(data_trial_s1[:,i], order=2)\n",
    "        rho2, sigma2 = sm.regression.linear_model.burg(data_trial_s2[:,i], order=2)\n",
    "        rho3, sigma3 = sm.regression.linear_model.burg(data_trial_s3[:,i], order=2)\n",
    "        ARFV=np.append(ARFV, (rho1, rho2, rho3))\n",
    "\n",
    "    #print(ARFV) \n",
    "\n",
    "    #Haar wavelet\n",
    "    import pywt\n",
    "    HWDFV=np.array([])\n",
    "    for i in range(8):\n",
    "        (cA, cD) = pywt.dwt(data_trial[:,i], 'haar')\n",
    "        HWDFV=np.append(HWDFV, cA)\n",
    "\n",
    "    #Spectral Power estimates\n",
    "    SPFV=np.array([])\n",
    "    for i in range(8):\n",
    "        f1, Pxx_den1 = signal.welch(data_trial_s1[:,i], 250)\n",
    "        f2, Pxx_den2 = signal.welch(data_trial_s2[:,i], 250)\n",
    "        f3, Pxx_den3 = signal.welch(data_trial_s3[:,i], 250)\n",
    "        SPFV=np.append(SPFV, (Pxx_den1, Pxx_den2, Pxx_den3))\n",
    "\n",
    "    #Concatenaton of All the feature vectors\n",
    "    concated=np.concatenate((ARFV, HWDFV, SPFV), axis=None)\n",
    "    concated=np.reshape(concated, (-1, 1))\n",
    "    if j==0:\n",
    "        final_t=concated\n",
    "    else:\n",
    "        final_t= np.hstack((final_t, concated))\n",
    "    print(j)\n",
    "print(final_t.shape)"
   ]
  },
  {
   "cell_type": "code",
   "execution_count": 114,
   "metadata": {},
   "outputs": [
    {
     "data": {
      "text/plain": [
       "(100, 6072)"
      ]
     },
     "execution_count": 114,
     "metadata": {},
     "output_type": "execute_result"
    }
   ],
   "source": [
    "final_t=final_t.T\n",
    "final_t.shape"
   ]
  },
  {
   "cell_type": "code",
   "execution_count": 115,
   "metadata": {},
   "outputs": [],
   "source": [
    "#Loading the true labels for the test set from BCI 3 website\n",
    "truelabels=np.loadtxt(\"true_labels.txt\", delimiter=\"/n\")"
   ]
  },
  {
   "cell_type": "code",
   "execution_count": 116,
   "metadata": {},
   "outputs": [],
   "source": [
    "#Predicting the Test labels using previously trained model\n",
    "y_pred_t = clf1.predict(final_t)"
   ]
  },
  {
   "cell_type": "code",
   "execution_count": 117,
   "metadata": {},
   "outputs": [
    {
     "name": "stdout",
     "output_type": "stream",
     "text": [
      "Accuracy: 0.65\n"
     ]
    }
   ],
   "source": [
    "#Import scikit-learn metrics module for accuracy calculation\n",
    "from sklearn import metrics\n",
    "\n",
    "print(\"Accuracy:\",metrics.accuracy_score(truelabels, y_pred_t))"
   ]
  },
  {
   "cell_type": "code",
   "execution_count": null,
   "metadata": {},
   "outputs": [],
   "source": []
  }
 ],
 "metadata": {
  "kernelspec": {
   "display_name": "Python 3",
   "language": "python",
   "name": "python3"
  },
  "language_info": {
   "codemirror_mode": {
    "name": "ipython",
    "version": 3
   },
   "file_extension": ".py",
   "mimetype": "text/x-python",
   "name": "python",
   "nbconvert_exporter": "python",
   "pygments_lexer": "ipython3",
   "version": "3.8.5"
  }
 },
 "nbformat": 4,
 "nbformat_minor": 4
}
